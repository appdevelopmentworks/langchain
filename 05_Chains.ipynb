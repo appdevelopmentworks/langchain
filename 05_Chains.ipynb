{
 "cells": [
  {
   "cell_type": "code",
   "execution_count": 1,
   "id": "f427f85b-8de9-414c-b379-d14e99f12e94",
   "metadata": {},
   "outputs": [
    {
     "name": "stdout",
     "output_type": "stream",
     "text": [
      "^C\n"
     ]
    }
   ],
   "source": [
    "!pip uninstall langchain-openai"
   ]
  },
  {
   "cell_type": "code",
   "execution_count": 2,
   "id": "fe0d2b74-52db-4c2e-8c90-619f45d21831",
   "metadata": {},
   "outputs": [
    {
     "name": "stdout",
     "output_type": "stream",
     "text": [
      "Requirement already satisfied: langchain in c:\\users\\hartm\\anaconda3\\lib\\site-packages (0.1.16)\n",
      "Requirement already satisfied: PyYAML>=5.3 in c:\\users\\hartm\\anaconda3\\lib\\site-packages (from langchain) (6.0.1)\n",
      "Requirement already satisfied: SQLAlchemy<3,>=1.4 in c:\\users\\hartm\\anaconda3\\lib\\site-packages (from langchain) (2.0.25)\n",
      "Requirement already satisfied: aiohttp<4.0.0,>=3.8.3 in c:\\users\\hartm\\anaconda3\\lib\\site-packages (from langchain) (3.9.3)\n",
      "Requirement already satisfied: dataclasses-json<0.7,>=0.5.7 in c:\\users\\hartm\\anaconda3\\lib\\site-packages (from langchain) (0.6.4)\n",
      "Requirement already satisfied: jsonpatch<2.0,>=1.33 in c:\\users\\hartm\\anaconda3\\lib\\site-packages (from langchain) (1.33)\n",
      "Requirement already satisfied: langchain-community<0.1,>=0.0.32 in c:\\users\\hartm\\anaconda3\\lib\\site-packages (from langchain) (0.0.34)\n",
      "Requirement already satisfied: langchain-core<0.2.0,>=0.1.42 in c:\\users\\hartm\\anaconda3\\lib\\site-packages (from langchain) (0.1.50)\n",
      "Requirement already satisfied: langchain-text-splitters<0.1,>=0.0.1 in c:\\users\\hartm\\anaconda3\\lib\\site-packages (from langchain) (0.0.1)\n",
      "Requirement already satisfied: langsmith<0.2.0,>=0.1.17 in c:\\users\\hartm\\anaconda3\\lib\\site-packages (from langchain) (0.1.49)\n",
      "Requirement already satisfied: numpy<2,>=1 in c:\\users\\hartm\\anaconda3\\lib\\site-packages (from langchain) (1.26.4)\n",
      "Requirement already satisfied: pydantic<3,>=1 in c:\\users\\hartm\\anaconda3\\lib\\site-packages (from langchain) (1.10.12)\n",
      "Requirement already satisfied: requests<3,>=2 in c:\\users\\hartm\\anaconda3\\lib\\site-packages (from langchain) (2.31.0)\n",
      "Requirement already satisfied: tenacity<9.0.0,>=8.1.0 in c:\\users\\hartm\\anaconda3\\lib\\site-packages (from langchain) (8.2.2)\n",
      "Requirement already satisfied: aiosignal>=1.1.2 in c:\\users\\hartm\\anaconda3\\lib\\site-packages (from aiohttp<4.0.0,>=3.8.3->langchain) (1.2.0)\n",
      "Requirement already satisfied: attrs>=17.3.0 in c:\\users\\hartm\\anaconda3\\lib\\site-packages (from aiohttp<4.0.0,>=3.8.3->langchain) (23.1.0)\n",
      "Requirement already satisfied: frozenlist>=1.1.1 in c:\\users\\hartm\\anaconda3\\lib\\site-packages (from aiohttp<4.0.0,>=3.8.3->langchain) (1.4.0)\n",
      "Requirement already satisfied: multidict<7.0,>=4.5 in c:\\users\\hartm\\anaconda3\\lib\\site-packages (from aiohttp<4.0.0,>=3.8.3->langchain) (6.0.4)\n",
      "Requirement already satisfied: yarl<2.0,>=1.0 in c:\\users\\hartm\\anaconda3\\lib\\site-packages (from aiohttp<4.0.0,>=3.8.3->langchain) (1.9.3)\n",
      "Requirement already satisfied: marshmallow<4.0.0,>=3.18.0 in c:\\users\\hartm\\anaconda3\\lib\\site-packages (from dataclasses-json<0.7,>=0.5.7->langchain) (3.21.1)\n",
      "Requirement already satisfied: typing-inspect<1,>=0.4.0 in c:\\users\\hartm\\anaconda3\\lib\\site-packages (from dataclasses-json<0.7,>=0.5.7->langchain) (0.9.0)\n",
      "Requirement already satisfied: jsonpointer>=1.9 in c:\\users\\hartm\\anaconda3\\lib\\site-packages (from jsonpatch<2.0,>=1.33->langchain) (2.1)\n",
      "Requirement already satisfied: packaging<24.0,>=23.2 in c:\\users\\hartm\\anaconda3\\lib\\site-packages (from langchain-core<0.2.0,>=0.1.42->langchain) (23.2)\n",
      "Requirement already satisfied: orjson<4.0.0,>=3.9.14 in c:\\users\\hartm\\anaconda3\\lib\\site-packages (from langsmith<0.2.0,>=0.1.17->langchain) (3.10.1)\n",
      "Requirement already satisfied: typing-extensions>=4.2.0 in c:\\users\\hartm\\anaconda3\\lib\\site-packages (from pydantic<3,>=1->langchain) (4.9.0)\n",
      "Requirement already satisfied: charset-normalizer<4,>=2 in c:\\users\\hartm\\anaconda3\\lib\\site-packages (from requests<3,>=2->langchain) (2.0.4)\n",
      "Requirement already satisfied: idna<4,>=2.5 in c:\\users\\hartm\\anaconda3\\lib\\site-packages (from requests<3,>=2->langchain) (3.4)\n",
      "Requirement already satisfied: urllib3<3,>=1.21.1 in c:\\users\\hartm\\anaconda3\\lib\\site-packages (from requests<3,>=2->langchain) (2.0.7)\n",
      "Requirement already satisfied: certifi>=2017.4.17 in c:\\users\\hartm\\anaconda3\\lib\\site-packages (from requests<3,>=2->langchain) (2024.2.2)\n",
      "Requirement already satisfied: greenlet!=0.4.17 in c:\\users\\hartm\\anaconda3\\lib\\site-packages (from SQLAlchemy<3,>=1.4->langchain) (3.0.1)\n",
      "Requirement already satisfied: mypy-extensions>=0.3.0 in c:\\users\\hartm\\anaconda3\\lib\\site-packages (from typing-inspect<1,>=0.4.0->dataclasses-json<0.7,>=0.5.7->langchain) (1.0.0)\n"
     ]
    }
   ],
   "source": [
    "!pip install langchain"
   ]
  },
  {
   "cell_type": "code",
   "execution_count": 3,
   "id": "4203cb4a-eb0a-42d0-a9e8-eec7a44e4c34",
   "metadata": {},
   "outputs": [
    {
     "name": "stderr",
     "output_type": "stream",
     "text": [
      "C:\\Users\\hartm\\anaconda3\\Lib\\site-packages\\langchain_core\\_api\\deprecation.py:119: LangChainDeprecationWarning: The class `ChatOpenAI` was deprecated in LangChain 0.0.10 and will be removed in 0.2.0. An updated version of the class exists in the langchain-openai package and should be used instead. To use it run `pip install -U langchain-openai` and import as `from langchain_openai import ChatOpenAI`.\n",
      "  warn_deprecated(\n"
     ]
    },
    {
     "name": "stdout",
     "output_type": "stream",
     "text": [
      "iPhoneはアメリカの企業であるApple（アップル）が開発した製品です。\n"
     ]
    }
   ],
   "source": [
    "from langchain import LLMChain\n",
    "from langchain import PromptTemplate\n",
    "from langchain.chat_models import ChatOpenAI\n",
    "#from langchain_openai import ChatOpenAI\n",
    "\n",
    "chat = ChatOpenAI(\n",
    "    model=\"gpt-3.5-turbo\",\n",
    ")\n",
    "\n",
    "prompt = PromptTemplate(\n",
    "    template=\"{product}はどこの会社が開発した製品ですか？\",\n",
    "    input_variables=[\n",
    "        \"product\"\n",
    "    ]\n",
    ")\n",
    "\n",
    "chain = LLMChain(\n",
    "    llm=chat,\n",
    "    prompt=prompt,\n",
    ")\n",
    "\n",
    "result = chain.predict(product=\"iPhone\")\n",
    "\n",
    "print(result)"
   ]
  },
  {
   "cell_type": "code",
   "execution_count": 4,
   "id": "2cb1f32b-2fce-4a90-b47c-1072c1761bb1",
   "metadata": {},
   "outputs": [
    {
     "name": "stdout",
     "output_type": "stream",
     "text": [
      "Apple\n"
     ]
    }
   ],
   "source": [
    "#Gemini版\n",
    "#LLMChain,PromptTemplateをインポート\n",
    "from langchain import LLMChain\n",
    "from langchain import PromptTemplate\n",
    "#GeminiのLangChain\n",
    "from langchain_google_genai import ChatGoogleGenerativeAI\n",
    "\n",
    "chat = ChatGoogleGenerativeAI(model=\"gemini-pro\")\n",
    "\n",
    "prompt = PromptTemplate(\n",
    "    template=\"{product}はどこの会社が開発した製品ですか？\",\n",
    "    input_variables=[\n",
    "        \"product\"\n",
    "    ]\n",
    ")\n",
    "\n",
    "#LLMChainを作成\n",
    "chain = LLMChain(\n",
    "    llm=chat,\n",
    "    prompt=prompt,\n",
    ")\n",
    "\n",
    "result = chain.predict(product=\"iPhone\")\n",
    "\n",
    "print(result)"
   ]
  },
  {
   "cell_type": "code",
   "execution_count": 24,
   "id": "83d67f73-ce76-4c05-9c3f-b5f87d622d59",
   "metadata": {},
   "outputs": [
    {
     "name": "stdout",
     "output_type": "stream",
     "text": [
      "\n",
      "\n",
      "\u001b[1m> Entering new LLMChain chain...\u001b[0m\n",
      "Prompt after formatting:\n",
      "\u001b[32;1m\u001b[1;3miPhoneはどこの会社が開発した製品ですか？\u001b[0m\n",
      "\n",
      "\u001b[1m> Finished chain.\u001b[0m\n",
      "Apple\n"
     ]
    }
   ],
   "source": [
    "#Gemini版\n",
    "#LLMChain,PromptTemplateをインポート\n",
    "from langchain import LLMChain\n",
    "from langchain import PromptTemplate\n",
    "#GeminiのLangChain\n",
    "from langchain_google_genai import ChatGoogleGenerativeAI\n",
    "\n",
    "chat = ChatGoogleGenerativeAI(model=\"gemini-pro\")\n",
    "\n",
    "prompt = PromptTemplate(\n",
    "    template=\"{product}はどこの会社が開発した製品ですか？\",\n",
    "    input_variables=[\n",
    "        \"product\"\n",
    "    ]\n",
    ")\n",
    "\n",
    "#LLMChainを作成\n",
    "chain = LLMChain(\n",
    "    llm=chat,\n",
    "    prompt=prompt,\n",
    "    verbose=True\n",
    ")\n",
    "\n",
    "result = chain.predict(product=\"iPhone\")\n",
    "\n",
    "print(result)"
   ]
  },
  {
   "cell_type": "code",
   "execution_count": null,
   "id": "31d16b90-88e3-4023-ab20-8e9c3acda08e",
   "metadata": {},
   "outputs": [],
   "source": [
    "from langchain.chains import ConversationChain\n",
    "from langchain.chat_models import ChatOpenAI\n",
    "from langchain.memory import ConversationBufferMemory\n",
    "\n",
    "chat = ChatOpenAI()\n",
    "\n",
    "memory = ConversationBufferMemory(return_messages=True)\n",
    "\n",
    "chain = ConversationChain(\n",
    "    memory=memory,\n",
    "    llm=chat,\n",
    ")"
   ]
  },
  {
   "cell_type": "code",
   "execution_count": 11,
   "id": "acfd4f07-b832-4a84-90c3-69c7bba69e4d",
   "metadata": {},
   "outputs": [],
   "source": [
    "from langchain.chains import ConversationChain\n",
    "from langchain.memory import ConversationBufferMemory\n",
    "#GeminiのLangChain\n",
    "from langchain_google_genai import ChatGoogleGenerativeAI\n",
    "\n",
    "chat = ChatGoogleGenerativeAI(model=\"gemini-pro\")\n",
    "\n",
    "memory = ConversationBufferMemory(return_messages=True)\n",
    "\n",
    "chain = ConversationChain(\n",
    "    memory=memory,\n",
    "    llm=chat,\n",
    ")\n"
   ]
  },
  {
   "cell_type": "markdown",
   "id": "8cd9d464-c810-4c73-808d-e9681ed70a7d",
   "metadata": {},
   "source": [
    "### 特定の機能に特化したChains\n",
    "↓以下にアクセスし情報を元に答える\n",
    "https://www.jma.go.jp/bosai/forecast/data/overview_forecast/130000.json"
   ]
  },
  {
   "cell_type": "code",
   "execution_count": null,
   "id": "219cc463-9adf-4a7f-9d0b-1c0edba68a52",
   "metadata": {},
   "outputs": [],
   "source": [
    "https://www.jma.go.jp/bosai/forecast/data/overview_forecast/130000.json"
   ]
  },
  {
   "cell_type": "code",
   "execution_count": 5,
   "id": "aa968497-dfaf-4236-9647-84c89de996a4",
   "metadata": {},
   "outputs": [
    {
     "name": "stderr",
     "output_type": "stream",
     "text": [
      "C:\\Users\\hartm\\anaconda3\\Lib\\site-packages\\langchain_core\\_api\\deprecation.py:119: LangChainDeprecationWarning: The method `Chain.__call__` was deprecated in langchain 0.1.0 and will be removed in 0.2.0. Use invoke instead.\n",
      "  warn_deprecated(\n"
     ]
    },
    {
     "name": "stdout",
     "output_type": "stream",
     "text": [
      "\n",
      "\n",
      "\u001b[1m> Entering new LLMChain chain...\u001b[0m\n",
      "Prompt after formatting:\n",
      "\u001b[32;1m\u001b[1;3m\n",
      "    以下の文章を元に質問に答えてください。\n",
      "    文章：{\"publishingOffice\":\"気象庁\",\"reportDatetime\":\"2024-05-04T16:36:00+09:00\",\"targetArea\":\"東京都\",\"headlineText\":\"\",\"text\":\"　本州付近は高気圧に覆われています。\\n\\n　東京地方は、晴れています。\\n\\n　４日は、高気圧に覆われて、晴れる見込みです。\\n\\n　５日は、引き続き高気圧に覆われて、晴れるでしょう。\\n\\n【関東甲信地方】\\n　関東甲信地方は、晴れています。\\n\\n　４日は、高気圧に覆われて、晴れる見込みです。\\n\\n　５日は、引き続き高気圧に覆われて、晴れるでしょう。\\n\\n　関東地方と伊豆諸島の海上では、４日は波がやや高く、５日はうねりを伴い波がやや高い見込みです。また、所々で霧が発生するでしょう。船舶は視程障害に注意してください。\"}\n",
      "    質問：東京の天気について教えて\n",
      "    \u001b[0m\n",
      "\n",
      "\u001b[1m> Finished chain.\u001b[0m\n",
      "{'query': '東京の天気について教えて', 'url': 'https://www.jma.go.jp/bosai/forecast/data/overview_forecast/130000.json', 'output': '東京の天気は、本州付近が高気圧に覆われており、東京地方は晴れています。4日は高気圧に覆われて晴れる見込みで、5日も高気圧に覆われて晴れるでしょう。'}\n"
     ]
    }
   ],
   "source": [
    "from langchain.chains import LLMChain\n",
    "from langchain.chains import LLMRequestsChain\n",
    "from langchain.prompts import PromptTemplate\n",
    "from langchain.chat_models import ChatOpenAI\n",
    "\n",
    "chat = ChatOpenAI()\n",
    "\n",
    "prompt = PromptTemplate(\n",
    "    input_variables=[\"query\", \"requests_result\"],\n",
    "    template=\"\"\"\n",
    "    以下の文章を元に質問に答えてください。\n",
    "    文章：{requests_result}\n",
    "    質問：{query}\n",
    "    \"\"\",\n",
    ")\n",
    "\n",
    "llm_chain = LLMChain(\n",
    "    llm=chat,\n",
    "    prompt=prompt,\n",
    "    verbose=True    \n",
    ")\n",
    "\n",
    "chain = LLMRequestsChain(\n",
    "    llm_chain= llm_chain,\n",
    ")\n",
    "\n",
    "print(chain({\n",
    "    \"query\":\"東京の天気について教えて\",\n",
    "    \"url\":\"https://www.jma.go.jp/bosai/forecast/data/overview_forecast/130000.json\",\n",
    "}))"
   ]
  },
  {
   "cell_type": "code",
   "execution_count": 6,
   "id": "9d29437e-24e5-449d-b051-b8085ebbf673",
   "metadata": {},
   "outputs": [
    {
     "name": "stdout",
     "output_type": "stream",
     "text": [
      "\n",
      "\n",
      "\u001b[1m> Entering new LLMChain chain...\u001b[0m\n",
      "Prompt after formatting:\n",
      "\u001b[32;1m\u001b[1;3m\n",
      "    以下の文章を元に質問に答えてください。\n",
      "    文章：{\"publishingOffice\":\"気象庁\",\"reportDatetime\":\"2024-05-04T16:36:00+09:00\",\"targetArea\":\"東京都\",\"headlineText\":\"\",\"text\":\"　本州付近は高気圧に覆われています。\\n\\n　東京地方は、晴れています。\\n\\n　４日は、高気圧に覆われて、晴れる見込みです。\\n\\n　５日は、引き続き高気圧に覆われて、晴れるでしょう。\\n\\n【関東甲信地方】\\n　関東甲信地方は、晴れています。\\n\\n　４日は、高気圧に覆われて、晴れる見込みです。\\n\\n　５日は、引き続き高気圧に覆われて、晴れるでしょう。\\n\\n　関東地方と伊豆諸島の海上では、４日は波がやや高く、５日はうねりを伴い波がやや高い見込みです。また、所々で霧が発生するでしょう。船舶は視程障害に注意してください。\"}\n",
      "    質問：東京の天気について教えて\n",
      "    \u001b[0m\n",
      "\n",
      "\u001b[1m> Finished chain.\u001b[0m\n",
      "{'query': '東京の天気について教えて', 'url': 'https://www.jma.go.jp/bosai/forecast/data/overview_forecast/130000.json', 'output': '晴れています。'}\n"
     ]
    }
   ],
   "source": [
    "from langchain.chains import LLMChain\n",
    "from langchain.chains import LLMRequestsChain\n",
    "from langchain.prompts import PromptTemplate\n",
    "#GeminiのLangChain\n",
    "from langchain_google_genai import ChatGoogleGenerativeAI\n",
    "\n",
    "chat = ChatGoogleGenerativeAI(model=\"gemini-pro\")\n",
    "\n",
    "prompt = PromptTemplate(\n",
    "    input_variables=[\"query\", \"requests_result\"],\n",
    "    template=\"\"\"\n",
    "    以下の文章を元に質問に答えてください。\n",
    "    文章：{requests_result}\n",
    "    質問：{query}\n",
    "    \"\"\",\n",
    ")\n",
    "\n",
    "llm_chain = LLMChain(\n",
    "    llm=chat,\n",
    "    prompt=prompt,\n",
    "    verbose=True    \n",
    ")\n",
    "\n",
    "chain = LLMRequestsChain(\n",
    "    llm_chain= llm_chain,\n",
    ")\n",
    "\n",
    "print(chain({\n",
    "    \"query\":\"東京の天気について教えて\",\n",
    "    \"url\":\"https://www.jma.go.jp/bosai/forecast/data/overview_forecast/130000.json\",\n",
    "}))"
   ]
  },
  {
   "cell_type": "code",
   "execution_count": 7,
   "id": "acdfe83d-45ef-415b-b10a-ebd9212da681",
   "metadata": {},
   "outputs": [
    {
     "name": "stderr",
     "output_type": "stream",
     "text": [
      "C:\\Users\\hartm\\anaconda3\\Lib\\site-packages\\langchain_core\\_api\\deprecation.py:119: LangChainDeprecationWarning: The method `Chain.run` was deprecated in langchain 0.1.0 and will be removed in 0.2.0. Use invoke instead.\n",
      "  warn_deprecated(\n"
     ]
    },
    {
     "name": "stdout",
     "output_type": "stream",
     "text": [
      "When choosing an electric guitar, it is important to consider the following points:\n",
      "\n",
      "1. Body type\n",
      "There are various types of electric guitar bodies, such as Les Paul, Stratocaster, Telecaster, etc. Each body type has different sound qualities and playability, so it is important to choose one that suits your playing style and preference.\n",
      "\n",
      "2. Pickups\n",
      "There are different types of pickups, such as single coil and humbucker. Single coils produce sharp and bright tones, while humbuckers create thick and powerful sounds. It is important to choose pickups that match your preference and playing style.\n",
      "\n",
      "3. Neck shape\n",
      "The neck shape of a guitar is also an important factor. A thicker neck is easier to grip and allows for powerful playing, while a thinner neck is said to facilitate faster playing. Choose the appropriate neck shape based on your hand size and preference.\n",
      "\n",
      "4. Fret number\n",
      "Electric guitars come in various types, such as 21 frets, 22 frets, 24 frets, etc. More frets allow for playing in higher registers, but it may be difficult to handle for beginners or those with short fingers. It is important to choose the right number of frets based on your playing style and level.\n",
      "\n",
      "Considering the above points, it is important to choose an electric guitar that suits you. It is also recommended to try playing the guitar in person at the store.\n"
     ]
    }
   ],
   "source": [
    "from langchain.chains import LLMChain\n",
    "from langchain.chains import SimpleSequentialChain\n",
    "from langchain.prompts import PromptTemplate\n",
    "from langchain.chat_models import ChatOpenAI\n",
    "\n",
    "chat = ChatOpenAI(model=\"gpt-3.5-turbo\")\n",
    "\n",
    "write_article_chain = LLMChain(\n",
    "    llm=chat,\n",
    "    prompt=PromptTemplate(\n",
    "        template=\"{input}についての記事を書いてください。\",\n",
    "        input_variables=[\"input\"],\n",
    "    ),\n",
    ") \n",
    "\n",
    "translate_chain = LLMChain(\n",
    "    llm=chat,\n",
    "    prompt=PromptTemplate(\n",
    "        template=\"以下の文章を英語に翻訳してください。\\n{input}\",\n",
    "        input_variables=[\"input\"],\n",
    "    ),\n",
    ")\n",
    "\n",
    "sequential_chain = SimpleSequentialChain(\n",
    "    chains=[\n",
    "        write_article_chain,\n",
    "        translate_chain,\n",
    "    ]\n",
    ")\n",
    "\n",
    "result = sequential_chain.run(\"エレキギターの選び方\")\n",
    "\n",
    "print(result)"
   ]
  },
  {
   "cell_type": "code",
   "execution_count": 8,
   "id": "0c0bcdb3-494a-4474-8841-7a053b6ef8ca",
   "metadata": {},
   "outputs": [
    {
     "name": "stdout",
     "output_type": "stream",
     "text": [
      "**How to Choose an Electric Guitar**\n",
      "\n",
      "The electric guitar is a versatile instrument that can adapt to a wide range of musical styles. Choosing the right one for you is an important decision in your musical journey. Here are some factors to consider when choosing an electric guitar:\n",
      "\n",
      "**1. Body Shape**\n",
      "\n",
      "Electric guitars come in a variety of body shapes, such as the Stratocaster, Telecaster, and Les Paul. Each body shape has its own unique sound and playing style.\n",
      "\n",
      "* **Stratocaster:** A versatile guitar suitable for all styles of music.\n",
      "* **Telecaster:** Bright, twangy sound, ideal for country and blues.\n",
      "* **Les Paul:** Warm, sustaining sound, great for rock and blues.\n",
      "\n",
      "**2. Pickup Configuration**\n",
      "\n",
      "Pickups convert the vibrations of the guitar strings into an electrical signal. The pickup configuration affects the guitar's sound.\n",
      "\n",
      "* **Single-coil:** Bright, twangy sound.\n",
      "* **Humbucker:** Warm, sustaining sound.\n",
      "* **P-90:** A mix between single-coil and humbucker sounds.\n",
      "\n",
      "**3. Bridge Type**\n",
      "\n",
      "The bridge is where the strings are anchored to the body. The type of bridge affects the guitar's intonation and sustain.\n",
      "\n",
      "* **Tremolo bridge:** Allows you to alter the pitch of the strings using a whammy bar.\n",
      "* **Hardtail bridge:** Fixed pitch, providing improved sustain.\n",
      "\n",
      "**4. Neck**\n",
      "\n",
      "The neck is what you use to play the guitar. The neck shape, length, and material affect playability and sound.\n",
      "\n",
      "* **Neck shape:** Available in various shapes like C-shape, V-shape, and U-shape.\n",
      "* **Neck length:** The scale length determines the length of the strings, affecting the guitar's tension and sound.\n",
      "* **Neck wood:** Various neck woods like maple, mahogany, and rosewood each have their own unique sound.\n",
      "\n",
      "**5. Finish**\n",
      "\n",
      "Electric guitars come in a variety of finishes. The finish affects the guitar's appearance and durability.\n",
      "\n",
      "* **Gloss finish:** Has a shiny, reflective appearance.\n",
      "* **Satin finish:** Has a matte, smooth texture.\n",
      "* **Relic finish:** Gives the guitar a vintage, aged look.\n",
      "\n",
      "**6. Price**\n",
      "\n",
      "Electric guitars vary greatly in price depending on brand, features, and materials. A beginner guitar can start at a few hundred dollars, while professional-grade guitars can cost thousands. It's important to find the best guitar within your budget.\n",
      "\n",
      "**7. Playability**\n",
      "\n",
      "The best way to choose an electric guitar is to play several different models. Experiment with different guitars to find one that feels comfortable to play and sounds the way you like. Consider playability, sound, and appearance.\n",
      "\n",
      "**Conclusion**\n",
      "\n",
      "Choosing an electric guitar is a personal process that depends on your own preferences. By considering the factors above, you can select the perfect guitar for your musical journey. Take your time and choose carefully, and you'll find an amazing instrument that you'll enjoy playing for years to come.\n"
     ]
    }
   ],
   "source": [
    "from langchain.chains import LLMChain\n",
    "from langchain.chains import SimpleSequentialChain\n",
    "from langchain.prompts import PromptTemplate\n",
    "#GeminiのLangChain\n",
    "from langchain_google_genai import ChatGoogleGenerativeAI\n",
    "\n",
    "chat = ChatGoogleGenerativeAI(model=\"gemini-pro\")\n",
    "\n",
    "write_article_chain = LLMChain(\n",
    "    llm=chat,\n",
    "    prompt=PromptTemplate(\n",
    "        template=\"{input}についての記事を書いてください。\",\n",
    "        input_variables=[\"input\"],\n",
    "    ),\n",
    ") \n",
    "\n",
    "translate_chain = LLMChain(\n",
    "    llm=chat,\n",
    "    prompt=PromptTemplate(\n",
    "        template=\"以下の文章を英語に翻訳してください。\\n{input}\",\n",
    "        input_variables=[\"input\"],\n",
    "    ),\n",
    ")\n",
    "\n",
    "sequential_chain = SimpleSequentialChain(\n",
    "    chains=[\n",
    "        write_article_chain,\n",
    "        translate_chain,\n",
    "    ]\n",
    ")\n",
    "\n",
    "result = sequential_chain.run(\"エレキギターの選び方\")\n",
    "\n",
    "print(result)"
   ]
  },
  {
   "cell_type": "code",
   "execution_count": null,
   "id": "a7915a93-e3c9-4a44-ac03-c2bb9de37621",
   "metadata": {},
   "outputs": [],
   "source": []
  }
 ],
 "metadata": {
  "kernelspec": {
   "display_name": "Python 3 (ipykernel)",
   "language": "python",
   "name": "python3"
  },
  "language_info": {
   "codemirror_mode": {
    "name": "ipython",
    "version": 3
   },
   "file_extension": ".py",
   "mimetype": "text/x-python",
   "name": "python",
   "nbconvert_exporter": "python",
   "pygments_lexer": "ipython3",
   "version": "3.11.7"
  }
 },
 "nbformat": 4,
 "nbformat_minor": 5
}
