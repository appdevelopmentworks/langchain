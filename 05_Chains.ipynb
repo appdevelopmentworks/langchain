{
 "cells": [
  {
   "cell_type": "code",
   "execution_count": 1,
   "id": "f427f85b-8de9-414c-b379-d14e99f12e94",
   "metadata": {},
   "outputs": [
    {
     "name": "stdout",
     "output_type": "stream",
     "text": [
      "^C\n"
     ]
    }
   ],
   "source": [
    "!pip uninstall langchain-openai"
   ]
  },
  {
   "cell_type": "code",
   "execution_count": 2,
   "id": "fe0d2b74-52db-4c2e-8c90-619f45d21831",
   "metadata": {},
   "outputs": [
    {
     "name": "stdout",
     "output_type": "stream",
     "text": [
      "Requirement already satisfied: langchain in c:\\users\\hartm\\anaconda3\\lib\\site-packages (0.1.16)\n",
      "Requirement already satisfied: PyYAML>=5.3 in c:\\users\\hartm\\anaconda3\\lib\\site-packages (from langchain) (6.0.1)\n",
      "Requirement already satisfied: SQLAlchemy<3,>=1.4 in c:\\users\\hartm\\anaconda3\\lib\\site-packages (from langchain) (2.0.25)\n",
      "Requirement already satisfied: aiohttp<4.0.0,>=3.8.3 in c:\\users\\hartm\\anaconda3\\lib\\site-packages (from langchain) (3.9.3)\n",
      "Requirement already satisfied: dataclasses-json<0.7,>=0.5.7 in c:\\users\\hartm\\anaconda3\\lib\\site-packages (from langchain) (0.6.4)\n",
      "Requirement already satisfied: jsonpatch<2.0,>=1.33 in c:\\users\\hartm\\anaconda3\\lib\\site-packages (from langchain) (1.33)\n",
      "Requirement already satisfied: langchain-community<0.1,>=0.0.32 in c:\\users\\hartm\\anaconda3\\lib\\site-packages (from langchain) (0.0.34)\n",
      "Requirement already satisfied: langchain-core<0.2.0,>=0.1.42 in c:\\users\\hartm\\anaconda3\\lib\\site-packages (from langchain) (0.1.50)\n",
      "Requirement already satisfied: langchain-text-splitters<0.1,>=0.0.1 in c:\\users\\hartm\\anaconda3\\lib\\site-packages (from langchain) (0.0.1)\n",
      "Requirement already satisfied: langsmith<0.2.0,>=0.1.17 in c:\\users\\hartm\\anaconda3\\lib\\site-packages (from langchain) (0.1.49)\n",
      "Requirement already satisfied: numpy<2,>=1 in c:\\users\\hartm\\anaconda3\\lib\\site-packages (from langchain) (1.26.4)\n",
      "Requirement already satisfied: pydantic<3,>=1 in c:\\users\\hartm\\anaconda3\\lib\\site-packages (from langchain) (1.10.12)\n",
      "Requirement already satisfied: requests<3,>=2 in c:\\users\\hartm\\anaconda3\\lib\\site-packages (from langchain) (2.31.0)\n",
      "Requirement already satisfied: tenacity<9.0.0,>=8.1.0 in c:\\users\\hartm\\anaconda3\\lib\\site-packages (from langchain) (8.2.2)\n",
      "Requirement already satisfied: aiosignal>=1.1.2 in c:\\users\\hartm\\anaconda3\\lib\\site-packages (from aiohttp<4.0.0,>=3.8.3->langchain) (1.2.0)\n",
      "Requirement already satisfied: attrs>=17.3.0 in c:\\users\\hartm\\anaconda3\\lib\\site-packages (from aiohttp<4.0.0,>=3.8.3->langchain) (23.1.0)\n",
      "Requirement already satisfied: frozenlist>=1.1.1 in c:\\users\\hartm\\anaconda3\\lib\\site-packages (from aiohttp<4.0.0,>=3.8.3->langchain) (1.4.0)\n",
      "Requirement already satisfied: multidict<7.0,>=4.5 in c:\\users\\hartm\\anaconda3\\lib\\site-packages (from aiohttp<4.0.0,>=3.8.3->langchain) (6.0.4)\n",
      "Requirement already satisfied: yarl<2.0,>=1.0 in c:\\users\\hartm\\anaconda3\\lib\\site-packages (from aiohttp<4.0.0,>=3.8.3->langchain) (1.9.3)\n",
      "Requirement already satisfied: marshmallow<4.0.0,>=3.18.0 in c:\\users\\hartm\\anaconda3\\lib\\site-packages (from dataclasses-json<0.7,>=0.5.7->langchain) (3.21.1)\n",
      "Requirement already satisfied: typing-inspect<1,>=0.4.0 in c:\\users\\hartm\\anaconda3\\lib\\site-packages (from dataclasses-json<0.7,>=0.5.7->langchain) (0.9.0)\n",
      "Requirement already satisfied: jsonpointer>=1.9 in c:\\users\\hartm\\anaconda3\\lib\\site-packages (from jsonpatch<2.0,>=1.33->langchain) (2.1)\n",
      "Requirement already satisfied: packaging<24.0,>=23.2 in c:\\users\\hartm\\anaconda3\\lib\\site-packages (from langchain-core<0.2.0,>=0.1.42->langchain) (23.2)\n",
      "Requirement already satisfied: orjson<4.0.0,>=3.9.14 in c:\\users\\hartm\\anaconda3\\lib\\site-packages (from langsmith<0.2.0,>=0.1.17->langchain) (3.10.1)\n",
      "Requirement already satisfied: typing-extensions>=4.2.0 in c:\\users\\hartm\\anaconda3\\lib\\site-packages (from pydantic<3,>=1->langchain) (4.9.0)\n",
      "Requirement already satisfied: charset-normalizer<4,>=2 in c:\\users\\hartm\\anaconda3\\lib\\site-packages (from requests<3,>=2->langchain) (2.0.4)\n",
      "Requirement already satisfied: idna<4,>=2.5 in c:\\users\\hartm\\anaconda3\\lib\\site-packages (from requests<3,>=2->langchain) (3.4)\n",
      "Requirement already satisfied: urllib3<3,>=1.21.1 in c:\\users\\hartm\\anaconda3\\lib\\site-packages (from requests<3,>=2->langchain) (2.0.7)\n",
      "Requirement already satisfied: certifi>=2017.4.17 in c:\\users\\hartm\\anaconda3\\lib\\site-packages (from requests<3,>=2->langchain) (2024.2.2)\n",
      "Requirement already satisfied: greenlet!=0.4.17 in c:\\users\\hartm\\anaconda3\\lib\\site-packages (from SQLAlchemy<3,>=1.4->langchain) (3.0.1)\n",
      "Requirement already satisfied: mypy-extensions>=0.3.0 in c:\\users\\hartm\\anaconda3\\lib\\site-packages (from typing-inspect<1,>=0.4.0->dataclasses-json<0.7,>=0.5.7->langchain) (1.0.0)\n"
     ]
    }
   ],
   "source": [
    "!pip install langchain"
   ]
  },
  {
   "cell_type": "code",
   "execution_count": 1,
   "id": "4203cb4a-eb0a-42d0-a9e8-eec7a44e4c34",
   "metadata": {},
   "outputs": [
    {
     "name": "stdout",
     "output_type": "stream",
     "text": [
      "iPhoneはアメリカの企業であるApple（アップル）が開発した製品です。\n"
     ]
    }
   ],
   "source": [
    "from langchain import LLMChain\n",
    "from langchain import PromptTemplate\n",
    "#from langchain.chat_models import ChatOpenAI\n",
    "from langchain_openai import ChatOpenAI\n",
    "\n",
    "chat = ChatOpenAI(\n",
    "    model=\"gpt-3.5-turbo\",\n",
    ")\n",
    "\n",
    "prompt = PromptTemplate(\n",
    "    template=\"{product}はどこの会社が開発した製品ですか？\",\n",
    "    input_variables=[\n",
    "        \"product\"\n",
    "    ]\n",
    ")\n",
    "\n",
    "chain = LLMChain(\n",
    "    llm=chat,\n",
    "    prompt=prompt,\n",
    ")\n",
    "\n",
    "result = chain.predict(product=\"iPhone\")\n",
    "\n",
    "print(result)"
   ]
  },
  {
   "cell_type": "code",
   "execution_count": 4,
   "id": "2cb1f32b-2fce-4a90-b47c-1072c1761bb1",
   "metadata": {},
   "outputs": [
    {
     "name": "stdout",
     "output_type": "stream",
     "text": [
      "Apple\n"
     ]
    }
   ],
   "source": [
    "#Gemini版\n",
    "#LLMChain,PromptTemplateをインポート\n",
    "from langchain import LLMChain\n",
    "from langchain import PromptTemplate\n",
    "#GeminiのLangChain\n",
    "from langchain_google_genai import ChatGoogleGenerativeAI\n",
    "\n",
    "chat = ChatGoogleGenerativeAI(model=\"gemini-pro\")\n",
    "\n",
    "prompt = PromptTemplate(\n",
    "    template=\"{product}はどこの会社が開発した製品ですか？\",\n",
    "    input_variables=[\n",
    "        \"product\"\n",
    "    ]\n",
    ")\n",
    "\n",
    "#LLMChainを作成\n",
    "chain = LLMChain(\n",
    "    llm=chat,\n",
    "    prompt=prompt,\n",
    ")\n",
    "\n",
    "result = chain.predict(product=\"iPhone\")\n",
    "\n",
    "print(result)"
   ]
  },
  {
   "cell_type": "code",
   "execution_count": 24,
   "id": "83d67f73-ce76-4c05-9c3f-b5f87d622d59",
   "metadata": {},
   "outputs": [
    {
     "name": "stdout",
     "output_type": "stream",
     "text": [
      "\n",
      "\n",
      "\u001b[1m> Entering new LLMChain chain...\u001b[0m\n",
      "Prompt after formatting:\n",
      "\u001b[32;1m\u001b[1;3miPhoneはどこの会社が開発した製品ですか？\u001b[0m\n",
      "\n",
      "\u001b[1m> Finished chain.\u001b[0m\n",
      "Apple\n"
     ]
    }
   ],
   "source": [
    "#Gemini版\n",
    "#LLMChain,PromptTemplateをインポート\n",
    "from langchain import LLMChain\n",
    "from langchain import PromptTemplate\n",
    "#GeminiのLangChain\n",
    "from langchain_google_genai import ChatGoogleGenerativeAI\n",
    "\n",
    "chat = ChatGoogleGenerativeAI(model=\"gemini-pro\")\n",
    "\n",
    "prompt = PromptTemplate(\n",
    "    template=\"{product}はどこの会社が開発した製品ですか？\",\n",
    "    input_variables=[\n",
    "        \"product\"\n",
    "    ]\n",
    ")\n",
    "\n",
    "#LLMChainを作成\n",
    "chain = LLMChain(\n",
    "    llm=chat,\n",
    "    prompt=prompt,\n",
    "    verbose=True\n",
    ")\n",
    "\n",
    "result = chain.predict(product=\"iPhone\")\n",
    "\n",
    "print(result)"
   ]
  },
  {
   "cell_type": "code",
   "execution_count": null,
   "id": "31d16b90-88e3-4023-ab20-8e9c3acda08e",
   "metadata": {},
   "outputs": [],
   "source": [
    "from langchain.chains import ConversationChain\n",
    "from langchain.chat_models import ChatOpenAI\n",
    "from langchain.memory import ConversationBufferMemory\n",
    "\n",
    "chat = ChatOpenAI()\n",
    "\n",
    "memory = ConversationBufferMemory(return_messages=True)\n",
    "\n",
    "chain = ConversationChain(\n",
    "    memory=memory,\n",
    "    llm=chat,\n",
    ")"
   ]
  },
  {
   "cell_type": "code",
   "execution_count": 11,
   "id": "acfd4f07-b832-4a84-90c3-69c7bba69e4d",
   "metadata": {},
   "outputs": [],
   "source": [
    "from langchain.chains import ConversationChain\n",
    "from langchain.memory import ConversationBufferMemory\n",
    "#GeminiのLangChain\n",
    "from langchain_google_genai import ChatGoogleGenerativeAI\n",
    "\n",
    "chat = ChatGoogleGenerativeAI(model=\"gemini-pro\")\n",
    "\n",
    "memory = ConversationBufferMemory(return_messages=True)\n",
    "\n",
    "chain = ConversationChain(\n",
    "    memory=memory,\n",
    "    llm=chat,\n",
    ")\n"
   ]
  },
  {
   "cell_type": "markdown",
   "id": "8cd9d464-c810-4c73-808d-e9681ed70a7d",
   "metadata": {},
   "source": [
    "### 特定の機能に特化したChains\n",
    "↓以下にアクセスし情報を元に答える\n",
    "https://www.jma.go.jp/bosai/forecast/data/overview_forecast/130000.json"
   ]
  },
  {
   "cell_type": "code",
   "execution_count": null,
   "id": "219cc463-9adf-4a7f-9d0b-1c0edba68a52",
   "metadata": {},
   "outputs": [],
   "source": [
    "https://www.jma.go.jp/bosai/forecast/data/overview_forecast/130000.json"
   ]
  },
  {
   "cell_type": "code",
   "execution_count": 2,
   "id": "aa968497-dfaf-4236-9647-84c89de996a4",
   "metadata": {},
   "outputs": [
    {
     "name": "stdout",
     "output_type": "stream",
     "text": [
      "\n",
      "\n",
      "\u001b[1m> Entering new LLMChain chain...\u001b[0m\n",
      "Prompt after formatting:\n",
      "\u001b[32;1m\u001b[1;3m\n",
      "    以下の文章を元に質問に答えてください。\n",
      "    文章：{\"publishingOffice\":\"気象庁\",\"reportDatetime\":\"2024-05-19T16:37:00+09:00\",\"targetArea\":\"東京都\",\"headlineText\":\"\",\"text\":\"　日本の南には前線が停滞しており、前線上の低気圧が東北東へ進んでいます。\\n\\n　東京地方は、おおむね曇りとなっています。\\n\\n　１９日は、前線が伊豆諸島付近にのび、低気圧が紀伊半島付近へ進む見込みです。このため、曇りで夜は雨となるでしょう。\\n\\n　２０日は、低気圧や前線の影響を受ける見込みです。このため、雨で夕方から曇りとなるでしょう。伊豆諸島では雨で雷を伴う所がある見込みです。\\n\\n【関東甲信地方】\\n　関東甲信地方は、雨や曇りとなっています。\\n\\n　１９日は、前線が伊豆諸島付近にのび、低気圧が紀伊半島付近へ進む見込みです。このため、雨や曇りでしょう。\\n\\n　２０日は、低気圧や前線の影響を受ける見込みです。このため、雨や曇りで、伊豆諸島では雷を伴う所があるでしょう。\\n\\n　関東地方と伊豆諸島の海上では、うねりを伴い、１９日は波がやや高く、２０日は波が高い見込みです。また、所々で霧が発生しています。船舶は高波や視程障害に注意してください。\"}\n",
      "    質問：東京の天気について教えて\n",
      "    \u001b[0m\n",
      "\n",
      "\u001b[1m> Finished chain.\u001b[0m\n",
      "{'query': '東京の天気について教えて', 'url': 'https://www.jma.go.jp/bosai/forecast/data/overview_forecast/130000.json', 'output': '東京の天気についての情報は以下の通りです：\\n\\n- **5月19日**:\\n  - 東京地方はおおむね曇りとなっています。\\n  - 前線が伊豆諸島付近にのび、低気圧が紀伊半島付近へ進む見込みです。このため、曇りで夜は雨となるでしょう。\\n\\n- **5月20日**:\\n  - 低気圧や前線の影響を受ける見込みです。このため、雨で夕方から曇りとなるでしょう。\\n  - 伊豆諸島では雨で雷を伴う所がある見込みです。'}\n"
     ]
    }
   ],
   "source": [
    "from langchain.chains import LLMChain\n",
    "from langchain.chains import LLMRequestsChain\n",
    "from langchain.prompts import PromptTemplate\n",
    "#from langchain.chat_models import ChatOpenAI\n",
    "from langchain_openai import ChatOpenAI\n",
    "\n",
    "chat = ChatOpenAI(model=\"gpt-4o\")\n",
    "\n",
    "prompt = PromptTemplate(\n",
    "    input_variables=[\"query\", \"requests_result\"],\n",
    "    template=\"\"\"\n",
    "    以下の文章を元に質問に答えてください。\n",
    "    文章：{requests_result}\n",
    "    質問：{query}\n",
    "    \"\"\",\n",
    ")\n",
    "\n",
    "#LLMChain\n",
    "llm_chain = LLMChain(\n",
    "    llm=chat,\n",
    "    prompt=prompt,\n",
    "    verbose=True    \n",
    ")\n",
    "#LLMRequestsChainを生成\n",
    "chain = LLMRequestsChain(\n",
    "    llm_chain= llm_chain,\n",
    ")\n",
    "\n",
    "print(chain({\n",
    "    \"query\":\"東京の天気について教えて\",\n",
    "    \"url\":\"https://www.jma.go.jp/bosai/forecast/data/overview_forecast/130000.json\",\n",
    "}))"
   ]
  },
  {
   "cell_type": "code",
   "execution_count": 12,
   "id": "9d29437e-24e5-449d-b051-b8085ebbf673",
   "metadata": {},
   "outputs": [
    {
     "name": "stdout",
     "output_type": "stream",
     "text": [
      "\n",
      "\n",
      "\u001b[1m> Entering new LLMChain chain...\u001b[0m\n",
      "Prompt after formatting:\n",
      "\u001b[32;1m\u001b[1;3m\n",
      "    以下の文章を元に質問に答えてください。\n",
      "    文章：{\"publishingOffice\":\"気象庁\",\"reportDatetime\":\"2024-05-19T16:37:00+09:00\",\"targetArea\":\"東京都\",\"headlineText\":\"\",\"text\":\"　日本の南には前線が停滞しており、前線上の低気圧が東北東へ進んでいます。\\n\\n　東京地方は、おおむね曇りとなっています。\\n\\n　１９日は、前線が伊豆諸島付近にのび、低気圧が紀伊半島付近へ進む見込みです。このため、曇りで夜は雨となるでしょう。\\n\\n　２０日は、低気圧や前線の影響を受ける見込みです。このため、雨で夕方から曇りとなるでしょう。伊豆諸島では雨で雷を伴う所がある見込みです。\\n\\n【関東甲信地方】\\n　関東甲信地方は、雨や曇りとなっています。\\n\\n　１９日は、前線が伊豆諸島付近にのび、低気圧が紀伊半島付近へ進む見込みです。このため、雨や曇りでしょう。\\n\\n　２０日は、低気圧や前線の影響を受ける見込みです。このため、雨や曇りで、伊豆諸島では雷を伴う所があるでしょう。\\n\\n　関東地方と伊豆諸島の海上では、うねりを伴い、１９日は波がやや高く、２０日は波が高い見込みです。また、所々で霧が発生しています。船舶は高波や視程障害に注意してください。\"}\n",
      "    質問：東京の天気について教えて\n",
      "    \u001b[0m\n",
      "\n",
      "\u001b[1m> Finished chain.\u001b[0m\n",
      "{'query': '東京の天気について教えて', 'url': 'https://www.jma.go.jp/bosai/forecast/data/overview_forecast/130000.json', 'output': '東京の天気予報は以下の通りです。\\n\\n* **本日19日(日):** 曇りで夜は雨。\\n* **明日20日(月):** 雨で夕方から曇り。\\n\\n伊豆諸島では、明日20日に雷を伴う雨となる見込みです。 \\n'}\n"
     ]
    }
   ],
   "source": [
    "#Geminiの場合\n",
    "from langchain.chains import LLMChain\n",
    "from langchain.chains import LLMRequestsChain\n",
    "from langchain.prompts import PromptTemplate\n",
    "#GeminiのLangChain\n",
    "from langchain_google_genai import ChatGoogleGenerativeAI\n",
    "\n",
    "chat = ChatGoogleGenerativeAI(model=\"gemini-1.5-pro-latest\")\n",
    "\n",
    "prompt = PromptTemplate(\n",
    "    input_variables=[\"query\", \"requests_result\"],\n",
    "    template=\"\"\"\n",
    "    以下の文章を元に質問に答えてください。\n",
    "    文章：{requests_result}\n",
    "    質問：{query}\n",
    "    \"\"\",\n",
    ")\n",
    "\n",
    "#\n",
    "llm_chain = LLMChain(\n",
    "    llm=chat,\n",
    "    prompt=prompt,\n",
    "    verbose=True    \n",
    ")\n",
    "\n",
    "#\n",
    "chain = LLMRequestsChain(\n",
    "    llm_chain= llm_chain,\n",
    ")\n",
    "\n",
    "print(chain({\n",
    "    \"query\":\"東京の天気について教えて\",\n",
    "    \"url\":\"https://www.jma.go.jp/bosai/forecast/data/overview_forecast/130000.json\",\n",
    "}))\n"
   ]
  },
  {
   "cell_type": "code",
   "execution_count": 14,
   "id": "6e314586-bcb0-45da-bb92-a449fcbd504d",
   "metadata": {},
   "outputs": [
    {
     "name": "stdout",
     "output_type": "stream",
     "text": [
      "\n",
      "\n",
      "\u001b[1m> Entering new LLMChain chain...\u001b[0m\n",
      "Prompt after formatting:\n",
      "\u001b[32;1m\u001b[1;3m\n",
      "    以下の文章を元に質問に答えてください。\n",
      "    文章：{\"publishingOffice\":\"気象庁\",\"reportDatetime\":\"2024-05-19T16:37:00+09:00\",\"targetArea\":\"東京都\",\"headlineText\":\"\",\"text\":\"　日本の南には前線が停滞しており、前線上の低気圧が東北東へ進んでいます。\\n\\n　東京地方は、おおむね曇りとなっています。\\n\\n　１９日は、前線が伊豆諸島付近にのび、低気圧が紀伊半島付近へ進む見込みです。このため、曇りで夜は雨となるでしょう。\\n\\n　２０日は、低気圧や前線の影響を受ける見込みです。このため、雨で夕方から曇りとなるでしょう。伊豆諸島では雨で雷を伴う所がある見込みです。\\n\\n【関東甲信地方】\\n　関東甲信地方は、雨や曇りとなっています。\\n\\n　１９日は、前線が伊豆諸島付近にのび、低気圧が紀伊半島付近へ進む見込みです。このため、雨や曇りでしょう。\\n\\n　２０日は、低気圧や前線の影響を受ける見込みです。このため、雨や曇りで、伊豆諸島では雷を伴う所があるでしょう。\\n\\n　関東地方と伊豆諸島の海上では、うねりを伴い、１９日は波がやや高く、２０日は波が高い見込みです。また、所々で霧が発生しています。船舶は高波や視程障害に注意してください。\"}\n",
      "    質問：東京の天気について教えて\n",
      "    \u001b[0m\n",
      "\n",
      "\u001b[1m> Finished chain.\u001b[0m\n",
      "東京の天気は、\n",
      "\n",
      "* **19日(日)**：曇りで夜は雨になるでしょう。\n",
      "* **20日(月)**：雨で夕方から曇りとなるでしょう。 \n",
      "\n",
      "伊豆諸島では、20日に雨で雷を伴うところがある見込みです。 \n",
      "\n"
     ]
    }
   ],
   "source": [
    "res = chain({\n",
    "    \"query\":\"東京の天気について教えて\",\n",
    "    \"url\":\"https://www.jma.go.jp/bosai/forecast/data/overview_forecast/130000.json\",\n",
    "})\n",
    "\n",
    "print(res['output'])"
   ]
  },
  {
   "cell_type": "code",
   "execution_count": 17,
   "id": "acdfe83d-45ef-415b-b10a-ebd9212da681",
   "metadata": {},
   "outputs": [
    {
     "name": "stdout",
     "output_type": "stream",
     "text": [
      "## An Article on How to Choose an Electric Guitar\n",
      "\n",
      "Electric guitars are beloved by many musicians for their diverse tonal range and wide array of play styles. However, when purchasing an electric guitar for the first time, it can be challenging to know where to start. This article provides a detailed guide on the key points to consider when choosing an electric guitar.\n",
      "\n",
      "### 1. Understand Your Musical Style\n",
      "\n",
      "Electric guitars come in various models, each with its own unique sound and playing feel. First, consider the type of music you want to play. Here are some representative music genres and the guitar models suited for them:\n",
      "\n",
      "- **Rock, Hard Rock**: Les Paul type (e.g., Gibson Les Paul)\n",
      "- **Blues**: Stratocaster type (e.g., Fender Stratocaster)\n",
      "- **Metal**: Flying V or Explorer type\n",
      "- **Jazz**: Semi-acoustic guitars (e.g., Gibson ES-335)\n",
      "\n",
      "### 2. Set Your Budget\n",
      "\n",
      "The price of electric guitars varies widely, ranging from tens of thousands to hundreds of thousands of yen, and even more. For your first guitar, it is important to choose within your budget without overextending yourself. Generally, good quality entry-level models for beginners can be found in the range of 30,000 to 100,000 yen.\n",
      "\n",
      "### 3. Understand the Guitar's Structure\n",
      "\n",
      "There are several crucial elements in the structure of an electric guitar. Understanding these will make it easier to choose the right guitar for you.\n",
      "\n",
      "- **Body Type**: The three main types are solid body, semi-hollow, and full hollow. Solid bodies are easy to handle and suitable for many genres.\n",
      "- **Neck**: The thickness and shape of the neck greatly affect the playing feel. Choose one that fits your hand comfortably.\n",
      "- **Pickups**: There are two types: single-coil and humbucker, each with distinct sounds. Single-coils are clear and bright, while humbuckers are thick and powerful.\n",
      "\n",
      "### 4. Try Playing the Guitar\n",
      "\n",
      "When selecting a guitar, it is crucial to try playing it at a music store. By doing so, you can check the sound and playing feel of the guitar. Pay attention to the following points during your trial:\n",
      "\n",
      "- **Tone**: Does it produce the sound you are looking for?\n",
      "- **Playing Feel**: The grip of the neck, the weight, and the balance of the body.\n",
      "- **Fit**: How comfortable it feels when you hold and play the guitar.\n",
      "\n",
      "### 5. Brand and Reputation\n",
      "\n",
      "There are many guitar brands, but choosing a reliable one is important. Brands like Fender, Gibson, Ibanez, and Yamaha are widely supported by both beginners and professionals. It’s also a good idea to consider the opinions of music store staff and other musicians.\n",
      "\n",
      "### Conclusion\n",
      "\n",
      "When choosing an electric guitar, it is important to consider your musical style, budget, the structure of the guitar, the importance of trying it out, and the brand's reputation. Finding your first guitar may be challenging, but discovering the right one for you will open up a wider world of music. Use this article as a guide to find the perfect electric guitar for yourself.\n"
     ]
    }
   ],
   "source": [
    "from langchain.chains import LLMChain\n",
    "from langchain.chains import SimpleSequentialChain\n",
    "from langchain.prompts import PromptTemplate\n",
    "#from langchain.chat_models import ChatOpenAI\n",
    "from langchain_openai import ChatOpenAI\n",
    "\n",
    "chat = ChatOpenAI(model=\"gpt-4o\")\n",
    "\n",
    "#記事を生成するChain\n",
    "write_article_chain = LLMChain(\n",
    "    llm=chat,\n",
    "    prompt=PromptTemplate(\n",
    "        template=\"{input}についての記事を書いてください。\",\n",
    "        input_variables=[\"input\"],\n",
    "    ),\n",
    ") \n",
    "\n",
    "#翻訳するChain\n",
    "translate_chain = LLMChain(\n",
    "    llm=chat,\n",
    "    prompt=PromptTemplate(\n",
    "        template=\"以下の文章を英語に翻訳してください。\\n{input}\",\n",
    "        input_variables=[\"input\"],\n",
    "    ),\n",
    ")\n",
    "\n",
    "#２つのChainをシーケンシャルにつなぐ\n",
    "sequential_chain = SimpleSequentialChain(\n",
    "    chains=[\n",
    "        write_article_chain,\n",
    "        translate_chain,\n",
    "    ]\n",
    ")\n",
    "\n",
    "result = sequential_chain.run(\"エレキギターの選び方\")\n",
    "\n",
    "print(result)"
   ]
  },
  {
   "cell_type": "code",
   "execution_count": 16,
   "id": "0c0bcdb3-494a-4474-8841-7a053b6ef8ca",
   "metadata": {},
   "outputs": [
    {
     "name": "stdout",
     "output_type": "stream",
     "text": [
      "##  A Guide to Finding the Perfect Electric Guitar for Beginners\n",
      "\n",
      "Are you thinking about starting to play guitar but overwhelmed by the variety of choices? Don't worry, this guide will help you find the perfect electric guitar, even if you're a complete beginner.\n",
      "\n",
      "**1. Determine Your Musical Tastes and Style**\n",
      "\n",
      "First, you need to figure out what kind of music you want to play and what style you want to play it in.\n",
      "\n",
      "* **Hard Rock and Metal:** If you're looking for a heavy sound, a guitar with **humbucker pickups** is recommended.\n",
      "* **Blues and Jazz:** Guitars with **single-coil pickups** are ideal for warm tones and delicate playing.\n",
      "* **Pop and Rock:** Guitars with **both humbuckers and single coils** offer versatility across a wide range of genres.\n",
      "\n",
      "**2. Understand Guitar Types and Features**\n",
      "\n",
      "There are many different types of electric guitars. Here are some of the most popular:\n",
      "\n",
      "* **Stratocaster:** Features single-coil pickups, lightweight and easy to play.\n",
      "* **Les Paul:** Features humbucker pickups, known for its powerful sound.\n",
      "* **Telecaster:** Features single-coil pickups, known for its clear and cutting sound.\n",
      "* **SG:** Features humbucker pickups, slim body for comfortable playing.\n",
      "* **Flying V:** Unique design, known for its powerful sound.\n",
      "\n",
      "**3. Set a Budget**\n",
      "\n",
      "Guitar prices vary widely. There are affordable beginner models and high-end professional models. \n",
      "\n",
      "* **Beginner:** Around $300-$500\n",
      "* **Intermediate:** Around $500-$1000\n",
      "* **Advanced:** Over $1000\n",
      "\n",
      "**4. Try Before You Buy**\n",
      "\n",
      "It's essential to try out guitars in person before making a purchase. \n",
      "\n",
      "* **Neck Feel:** Choose a neck thickness that feels comfortable in your hand.\n",
      "* **String Action:** Strings that are too high are difficult to play, while strings that are too low can cause buzzing.\n",
      "* **Sound:** Make sure the sound is what you're looking for.\n",
      "* **Aesthetics:** Choose a guitar that you love the look of.\n",
      "\n",
      "**5. Don't Forget an Amp**\n",
      "\n",
      "You need an amp to make your guitar sound.\n",
      "\n",
      "* **Beginner:** Look for a small, portable amp.\n",
      "* **Intermediate:** Choose an amp with good sound quality.\n",
      "\n",
      "**6. Find Your Perfect Match**\n",
      "\n",
      "Experiment with different guitars and find one that suits your taste and style.\n",
      "\n",
      "**7. Have Fun!**\n",
      "\n",
      "Choosing a guitar should be an enjoyable process. Try out different models and find the one that makes you excited to play! \n",
      "\n"
     ]
    }
   ],
   "source": [
    "#Geminiの場合\n",
    "from langchain.chains import LLMChain\n",
    "from langchain.chains import SimpleSequentialChain\n",
    "from langchain.prompts import PromptTemplate\n",
    "#GeminiのLangChain\n",
    "from langchain_google_genai import ChatGoogleGenerativeAI\n",
    "\n",
    "chat = ChatGoogleGenerativeAI(model=\"gemini-1.5-flash-latest\")\n",
    "\n",
    "#記事を生成するChain\n",
    "write_article_chain = LLMChain(\n",
    "    llm=chat,\n",
    "    prompt=PromptTemplate(\n",
    "        template=\"{input}についての記事を書いてください。\",\n",
    "        input_variables=[\"input\"],\n",
    "    ),\n",
    ") \n",
    "\n",
    "#翻訳のChain\n",
    "translate_chain = LLMChain(\n",
    "    llm=chat,\n",
    "    prompt=PromptTemplate(\n",
    "        template=\"以下の文章を英語に翻訳してください。\\n{input}\",\n",
    "        input_variables=[\"input\"],\n",
    "    ),\n",
    ")\n",
    "\n",
    "#Chainをシーケンシャルにつなぐ\n",
    "sequential_chain = SimpleSequentialChain(\n",
    "    chains=[\n",
    "        write_article_chain,\n",
    "        translate_chain,\n",
    "    ]\n",
    ")\n",
    "\n",
    "result = sequential_chain.run(\"エレキギターの選び方\")\n",
    "\n",
    "print(result)"
   ]
  },
  {
   "cell_type": "code",
   "execution_count": null,
   "id": "a7915a93-e3c9-4a44-ac03-c2bb9de37621",
   "metadata": {},
   "outputs": [],
   "source": []
  }
 ],
 "metadata": {
  "kernelspec": {
   "display_name": "Python 3 (ipykernel)",
   "language": "python",
   "name": "python3"
  },
  "language_info": {
   "codemirror_mode": {
    "name": "ipython",
    "version": 3
   },
   "file_extension": ".py",
   "mimetype": "text/x-python",
   "name": "python",
   "nbconvert_exporter": "python",
   "pygments_lexer": "ipython3",
   "version": "3.11.7"
  }
 },
 "nbformat": 4,
 "nbformat_minor": 5
}
