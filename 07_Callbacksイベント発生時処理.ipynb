{
 "cells": [
  {
   "cell_type": "markdown",
   "id": "cbc8a40f-43dd-4886-9bdd-9f3a90374ce7",
   "metadata": {},
   "source": [
    "## Callbacksモジュールを使って外部ライブラリーと連携"
   ]
  },
  {
   "cell_type": "code",
   "execution_count": null,
   "id": "999073e6-c4da-4d28-ac18-f11618190fa6",
   "metadata": {},
   "outputs": [],
   "source": [
    "import chainlit as cl\n",
    "from langchain.agents import AgentType\n",
    "from langchain.agents import initialize_agent\n",
    "from langchain.agents import load_tools\n",
    "from langchain_openai import ChatOpenAI\n",
    "\n",
    "chat = ChatOpenAI(\n",
    "    temperature=0,\n",
    "    #model=\"gpt-3.5-turbo\"\n",
    "    model=\"gpt-4o\"\n",
    ")\n",
    "\n",
    "tools=load_tools(\n",
    "    [\n",
    "        \"serpapi\",\n",
    "    ]\n",
    ")\n",
    "#\n",
    "#Agent初期化\n",
    "agent = initialize_agent(\n",
    "    tools=tools,\n",
    "    llm=chat,\n",
    "    agent=AgentType.CHAT_ZERO_SHOT_REACT_DESCRIPTION,\n",
    "    verbose=True\n",
    ")\n",
    "\n",
    "@cl.on_chat_start\n",
    "async def on_chat_start():\n",
    "    await cl.Message(content=\"Agentの初期化が終了しました\").send()\n",
    "\n",
    "@cl.on_message\n",
    "async def on_message(input_message):\n",
    "    result=agent.run(\n",
    "        input_message,\n",
    "        callbacks=[\n",
    "            cl.LangchainCallbackHandler()\n",
    "        ]\n",
    "    )\n",
    "    await cl.Message(content=result).send()"
   ]
  },
  {
   "cell_type": "markdown",
   "id": "21a5f217-06b6-43f1-91b1-5ecb007f2bf3",
   "metadata": {},
   "source": [
    "## ログをターミナルに表示"
   ]
  },
  {
   "cell_type": "code",
   "execution_count": 8,
   "id": "0da1e2ab-68f5-4cbe-9bbb-736ca3bb0401",
   "metadata": {},
   "outputs": [
    {
     "name": "stdout",
     "output_type": "stream",
     "text": [
      "ChatModelの実行を開始します......\n",
      "入力:[[HumanMessage(content='こんにちは！')]]\n",
      "こんにちは！今日はどんなお手伝いができますか？\n"
     ]
    }
   ],
   "source": [
    "#python fileName で実行\n",
    "from langchain.callbacks.base import BaseCallbackHandler\n",
    "from langchain.schema import HumanMessage\n",
    "from langchain_openai import ChatOpenAI\n",
    "\n",
    "class LogCallbackHandler(BaseCallbackHandler):\n",
    "    #\n",
    "    def on_chat_model_start(self, serialized, messages, **kwargs):\n",
    "        print(\"ChatModelの実行を開始します......\")\n",
    "        print(f\"入力:{messages}\")\n",
    "    #\n",
    "    def on_chain_start(self, serialized, inputs, **kwargs):\n",
    "        print(\"Chainの実行を開始します......\")\n",
    "        print(f\"入力:{inputs}\")\n",
    "\n",
    "#コールバックにコールバッククラス\n",
    "chat = ChatOpenAI(\n",
    "    model=\"gpt-4o\",\n",
    "    callbacks=[\n",
    "        LogCallbackHandler()\n",
    "    ]\n",
    ")\n",
    "\n",
    "#ユーザーメッセージ\n",
    "result = chat(\n",
    "    [\n",
    "        HumanMessage(content=\"こんにちは！\"),\n",
    "    ]\n",
    ")\n",
    "\n",
    "print(result.content)"
   ]
  },
  {
   "cell_type": "code",
   "execution_count": null,
   "id": "48ee3c1b-87ca-4428-afb9-afe3056cdf42",
   "metadata": {},
   "outputs": [],
   "source": []
  }
 ],
 "metadata": {
  "kernelspec": {
   "display_name": "Python 3 (ipykernel)",
   "language": "python",
   "name": "python3"
  },
  "language_info": {
   "codemirror_mode": {
    "name": "ipython",
    "version": 3
   },
   "file_extension": ".py",
   "mimetype": "text/x-python",
   "name": "python",
   "nbconvert_exporter": "python",
   "pygments_lexer": "ipython3",
   "version": "3.11.7"
  }
 },
 "nbformat": 4,
 "nbformat_minor": 5
}
