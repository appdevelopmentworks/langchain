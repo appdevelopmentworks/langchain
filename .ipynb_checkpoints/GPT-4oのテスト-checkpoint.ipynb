{
 "cells": [
  {
   "cell_type": "code",
   "execution_count": 4,
   "id": "8a9818a3-2ebb-4e58-9199-72ac7c6d3f17",
   "metadata": {},
   "outputs": [],
   "source": [
    "from langchain.chat_models import ChatOpenAI\n",
    "from langchain.schema import HumanMessage\n",
    "from langchain.schema import AIMessage\n",
    "from langchain.schema import SystemMessage"
   ]
  },
  {
   "cell_type": "code",
   "execution_count": 2,
   "id": "08d693c1-1289-4236-8faa-e81ce387a122",
   "metadata": {},
   "outputs": [
    {
     "name": "stderr",
     "output_type": "stream",
     "text": [
      "C:\\Users\\hartm\\anaconda3\\Lib\\site-packages\\langchain_core\\_api\\deprecation.py:119: LangChainDeprecationWarning: The method `BaseChatModel.__call__` was deprecated in langchain-core 0.1.7 and will be removed in 0.2.0. Use invoke instead.\n",
      "  warn_deprecated(\n"
     ]
    },
    {
     "name": "stdout",
     "output_type": "stream",
     "text": [
      "マグロは泳ぎ続ける必要がある主な理由は、呼吸と体温調節に関連しています。\n",
      "\n",
      "1. **呼吸**:\n",
      "   マグロは「強制換水呼吸」と呼ばれる方法で酸素を得ています。これは、水を口から取り入れ、それを鰓（えら）を通して排出することで酸素を取り込む方法です。泳ぎ続けることで水流を絶えず鰓に送り込むことができ、効率的に酸素を取り込むことができます。\n",
      "\n",
      "2. **体温調節**:\n",
      "   マグロは高度な体温調節能力を持つ魚です。彼らは「部分恒温動物」として、外部の水温に対して体温を一定に保つ能力があります。泳ぎ続けることで筋肉活動が活発になり、それによって体温を維持するのに役立ちます。\n",
      "\n",
      "これらの理由から、マグロは泳ぎ続けることが生存にとって非常に重要です。マグロは泳ぎ続ける必要がある主な理由は、呼吸と体温調節に関連しています。\n",
      "\n",
      "1. **呼吸**:\n",
      "   マグロは「強制換水呼吸」と呼ばれる方法で酸素を得ています。これは、水を口から取り入れ、それを鰓（えら）を通して排出することで酸素を取り込む方法です。泳ぎ続けることで水流を絶えず鰓に送り込むことができ、効率的に酸素を取り込むことができます。\n",
      "\n",
      "2. **体温調節**:\n",
      "   マグロは高度な体温調節能力を持つ魚です。彼らは「部分恒温動物」として、外部の水温に対して体温を一定に保つ能力があります。泳ぎ続けることで筋肉活動が活発になり、それによって体温を維持するのに役立ちます。\n",
      "\n",
      "これらの理由から、マグロは泳ぎ続けることが生存にとって非常に重要です。\n"
     ]
    }
   ],
   "source": [
    "#Warningに基づきインポート文を変える\n",
    "from langchain_openai import ChatOpenAI\n",
    "from langchain.schema import HumanMessage\n",
    "from langchain.callbacks.streaming_stdout import StreamingStdOutCallbackHandler\n",
    "\n",
    "#クライアント作成、呼び出すモデル指定\n",
    "chat = ChatOpenAI(\n",
    "    #ストリーミングモード指定\n",
    "    streaming=True,\n",
    "    model='gpt-4o',\n",
    "    callbacks=[\n",
    "        StreamingStdOutCallbackHandler()\n",
    "    ]\n",
    ")\n",
    "\n",
    "#実行\n",
    "result = chat(\n",
    "    [\n",
    "        HumanMessage(content=\"マグロはなぜ泳ぎ続けるのか？\")\n",
    "    ]\n",
    ")\n",
    "\n",
    "print(result.content)"
   ]
  },
  {
   "cell_type": "code",
   "execution_count": 6,
   "id": "831391f2-da35-4b06-902e-11ea19b7fd95",
   "metadata": {},
   "outputs": [
    {
     "name": "stdout",
     "output_type": "stream",
     "text": [
      "もちろんです。だし巻き卵は柔らかくて風味豊かな料理で、糖尿病患者の方にも適した食材を使って作ることができます。以下に基本的なだし巻き卵の作り方を紹介します。\n",
      "\n",
      "### 材料（2〜3人分）\n",
      "- 卵: 3個\n",
      "- だし: 50ml （昆布だしやかつおだしを使用）\n",
      "- みりん: 小さじ1\n",
      "- しょうゆ: 小さじ1/2\n",
      "- 塩: 少々\n",
      "- サラダ油: 適量\n",
      "\n",
      "### 作り方\n",
      "1. **だしの準備**\n",
      "   - だし、みりん、しょうゆ、塩を混ぜ合わせておきます。\n",
      "\n",
      "2. **卵の準備**\n",
      "   - ボウルに卵を割り入れ、よく溶きほぐします。\n",
      "   - だしの混合物を卵に加え、均一になるまでよく混ぜます。\n",
      "\n",
      "3. **焼く**\n",
      "   - フライパン（できれば四角い卵焼き器）を中火で熱し、サラダ油を薄くひきます。\n",
      "   - フライパンが温まったら、卵液の1/3を流し入れます。\n",
      "   - 表面が半分ほど固まったら、手前から奥に向かって卵を巻きます。\n",
      "   - 卵をフライパンの手前に移動させ、再び油を薄くひきます。\n",
      "   - 残りの卵液の半分を入れ、同じように焼き、巻きます。\n",
      "   - 最後に残った卵液を流し入れ、同じ手順で巻きます。\n",
      "\n",
      "4. **形を整える**\n",
      "   - 仕上がっただし巻き卵をフライパンから取り出し、まな板の上で形を整えます。\n",
      "   - 包丁で適当な大きさに切り分けて完成です。\n",
      "\n",
      "### 注意点\n",
      "- みりんやしょうゆの糖分や塩分が気になる場合、無糖のだしや減塩のしょうゆを使用するか、量を調整してください。\n",
      "- サラダ油の量を最小限に抑えることでカロリーを抑えることができます。\n",
      "\n",
      "お楽しみいただけると幸いです。何か疑問や他のレシピについても質問があればお知らせください。もちろんです。だし巻き卵は柔らかくて風味豊かな料理で、糖尿病患者の方にも適した食材を使って作ることができます。以下に基本的なだし巻き卵の作り方を紹介します。\n",
      "\n",
      "### 材料（2〜3人分）\n",
      "- 卵: 3個\n",
      "- だし: 50ml （昆布だしやかつおだしを使用）\n",
      "- みりん: 小さじ1\n",
      "- しょうゆ: 小さじ1/2\n",
      "- 塩: 少々\n",
      "- サラダ油: 適量\n",
      "\n",
      "### 作り方\n",
      "1. **だしの準備**\n",
      "   - だし、みりん、しょうゆ、塩を混ぜ合わせておきます。\n",
      "\n",
      "2. **卵の準備**\n",
      "   - ボウルに卵を割り入れ、よく溶きほぐします。\n",
      "   - だしの混合物を卵に加え、均一になるまでよく混ぜます。\n",
      "\n",
      "3. **焼く**\n",
      "   - フライパン（できれば四角い卵焼き器）を中火で熱し、サラダ油を薄くひきます。\n",
      "   - フライパンが温まったら、卵液の1/3を流し入れます。\n",
      "   - 表面が半分ほど固まったら、手前から奥に向かって卵を巻きます。\n",
      "   - 卵をフライパンの手前に移動させ、再び油を薄くひきます。\n",
      "   - 残りの卵液の半分を入れ、同じように焼き、巻きます。\n",
      "   - 最後に残った卵液を流し入れ、同じ手順で巻きます。\n",
      "\n",
      "4. **形を整える**\n",
      "   - 仕上がっただし巻き卵をフライパンから取り出し、まな板の上で形を整えます。\n",
      "   - 包丁で適当な大きさに切り分けて完成です。\n",
      "\n",
      "### 注意点\n",
      "- みりんやしょうゆの糖分や塩分が気になる場合、無糖のだしや減塩のしょうゆを使用するか、量を調整してください。\n",
      "- サラダ油の量を最小限に抑えることでカロリーを抑えることができます。\n",
      "\n",
      "お楽しみいただけると幸いです。何か疑問や他のレシピについても質問があればお知らせください。\n"
     ]
    }
   ],
   "source": [
    "result = chat(\n",
    "    [\n",
    "        SystemMessage(content=\"あなたは糖尿病患者専門の管理栄養士です\"),\n",
    "        HumanMessage(content=\"だし巻き卵の作り方教えてください\"),\n",
    "    ]\n",
    ")\n",
    "\n",
    "print(result.content)"
   ]
  },
  {
   "cell_type": "code",
   "execution_count": null,
   "id": "3aa89741-af18-4b71-b952-6a5ddbbb38e0",
   "metadata": {},
   "outputs": [],
   "source": []
  }
 ],
 "metadata": {
  "kernelspec": {
   "display_name": "Python 3 (ipykernel)",
   "language": "python",
   "name": "python3"
  },
  "language_info": {
   "codemirror_mode": {
    "name": "ipython",
    "version": 3
   },
   "file_extension": ".py",
   "mimetype": "text/x-python",
   "name": "python",
   "nbconvert_exporter": "python",
   "pygments_lexer": "ipython3",
   "version": "3.11.7"
  }
 },
 "nbformat": 4,
 "nbformat_minor": 5
}
