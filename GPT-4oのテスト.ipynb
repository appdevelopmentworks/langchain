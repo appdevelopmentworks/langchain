{
 "cells": [
  {
   "cell_type": "code",
   "execution_count": 1,
   "id": "8a9818a3-2ebb-4e58-9199-72ac7c6d3f17",
   "metadata": {},
   "outputs": [],
   "source": [
    "from langchain.chat_models import ChatOpenAI\n",
    "from langchain.schema import HumanMessage\n",
    "from langchain.schema import AIMessage\n",
    "from langchain.schema import SystemMessage"
   ]
  },
  {
   "cell_type": "code",
   "execution_count": 7,
   "id": "08d693c1-1289-4236-8faa-e81ce387a122",
   "metadata": {},
   "outputs": [
    {
     "name": "stdout",
     "output_type": "stream",
     "text": [
      "マグロは泳ぎ続けることで鰭の運動や呼吸を維持し、水中での生活を維持するためです。また、泳ぎ続けることで餌を見つけたり、敵から逃れるためのスピードを維持することも重要です。マグロは非常に活動的な魚であり、泳ぎ続けることが彼らの生活に欠かせない要素となっています。マグロは泳ぎ続けることで鰭の運動や呼吸を維持し、水中での生活を維持するためです。また、泳ぎ続けることで餌を見つけたり、敵から逃れるためのスピードを維持することも重要です。マグロは非常に活動的な魚であり、泳ぎ続けることが彼らの生活に欠かせない要素となっています。\n"
     ]
    }
   ],
   "source": [
    "#Warningに基づきインポート文を変える\n",
    "from langchain_openai import ChatOpenAI\n",
    "from langchain.schema import HumanMessage\n",
    "from langchain.callbacks.streaming_stdout import StreamingStdOutCallbackHandler\n",
    "\n",
    "#クライアント作成、呼び出すモデル指定\n",
    "chat = ChatOpenAI(\n",
    "    #ストリーミングモード指定\n",
    "    streaming=True,\n",
    "    callbacks=[\n",
    "        StreamingStdOutCallbackHandler()\n",
    "    ]\n",
    ")\n",
    "\n",
    "#実行\n",
    "result = chat(\n",
    "    [\n",
    "        HumanMessage(content=\"マグロはなぜ泳ぎ続けるのか？\")\n",
    "    ]\n",
    ")\n",
    "\n",
    "print(result.content)"
   ]
  },
  {
   "cell_type": "code",
   "execution_count": 9,
   "id": "831391f2-da35-4b06-902e-11ea19b7fd95",
   "metadata": {},
   "outputs": [
    {
     "name": "stdout",
     "output_type": "stream",
     "text": [
      "だし巻き卵の作り方をご説明しますね。\n",
      "\n",
      "【材料】\n",
      "- 卵 4個\n",
      "- 砂糖 大さじ1\n",
      "- しょうゆ 大さじ1\n",
      "- だし 小さじ1\n",
      "- 塩 ひとつまみ\n",
      "- サラダ油 適量\n",
      "\n",
      "【作り方】\n",
      "1. ボウルに卵を割り入れ、砂糖、しょうゆ、だし、塩を加えてよく混ぜます。\n",
      "2. フライパンにサラダ油を熱し、卵液の1/4量を流し入れます。\n",
      "3. 焼き色がついてきつね色になったら、手前側から巻いていきます。\n",
      "4. ラップで巻いた状態で巻き続け、形を整えます。\n",
      "5. 冷ましてから切り分けて完成です。\n",
      "\n",
      "ぜひお試しください。だし巻き卵の作り方をご説明しますね。\n",
      "\n",
      "【材料】\n",
      "- 卵 4個\n",
      "- 砂糖 大さじ1\n",
      "- しょうゆ 大さじ1\n",
      "- だし 小さじ1\n",
      "- 塩 ひとつまみ\n",
      "- サラダ油 適量\n",
      "\n",
      "【作り方】\n",
      "1. ボウルに卵を割り入れ、砂糖、しょうゆ、だし、塩を加えてよく混ぜます。\n",
      "2. フライパンにサラダ油を熱し、卵液の1/4量を流し入れます。\n",
      "3. 焼き色がついてきつね色になったら、手前側から巻いていきます。\n",
      "4. ラップで巻いた状態で巻き続け、形を整えます。\n",
      "5. 冷ましてから切り分けて完成です。\n",
      "\n",
      "ぜひお試しください。\n"
     ]
    }
   ],
   "source": [
    "result = chat(\n",
    "    [\n",
    "        SystemMessage(content=\"あなたは糖尿病患者専門の管理栄養士です\"),\n",
    "        HumanMessage(content=\"だし巻き卵の作り方教えてください\"),\n",
    "    ]\n",
    ")\n",
    "\n",
    "print(result.content)"
   ]
  },
  {
   "cell_type": "code",
   "execution_count": null,
   "id": "3aa89741-af18-4b71-b952-6a5ddbbb38e0",
   "metadata": {},
   "outputs": [],
   "source": []
  }
 ],
 "metadata": {
  "kernelspec": {
   "display_name": "Python 3 (ipykernel)",
   "language": "python",
   "name": "python3"
  },
  "language_info": {
   "codemirror_mode": {
    "name": "ipython",
    "version": 3
   },
   "file_extension": ".py",
   "mimetype": "text/x-python",
   "name": "python",
   "nbconvert_exporter": "python",
   "pygments_lexer": "ipython3",
   "version": "3.11.7"
  }
 },
 "nbformat": 4,
 "nbformat_minor": 5
}
